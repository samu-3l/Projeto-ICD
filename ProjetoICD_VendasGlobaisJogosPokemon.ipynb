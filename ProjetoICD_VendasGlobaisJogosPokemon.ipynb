{
 "cells": [
  {
   "cell_type": "code",
   "execution_count": 67,
   "id": "83b1451c",
   "metadata": {},
   "outputs": [],
   "source": [
    "import pandas as pd\n",
    "\n",
    "dados = pd.read_csv('vendaspokemonn.csv', sep=',')"
   ]
  },
  {
   "cell_type": "markdown",
   "id": "e1b5d518",
   "metadata": {},
   "source": [
    "# Encontrando as medidas de centralidade e dispersão das vendas globais dos jogos"
   ]
  },
  {
   "cell_type": "markdown",
   "id": "f164f6bf",
   "metadata": {},
   "source": [
    "## Média"
   ]
  },
  {
   "cell_type": "code",
   "execution_count": 83,
   "id": "a6431df4",
   "metadata": {},
   "outputs": [
    {
     "name": "stdout",
     "output_type": "stream",
     "text": [
      "A média das vendas globais em milhões de dólares foi de:  5.22\n"
     ]
    }
   ],
   "source": [
    "mediavendas = dados['global_sales'].mean()\n",
    "print(f\"A média das vendas globais em milhões de dólares foi de:  {mediavendas:.2f}\")"
   ]
  },
  {
   "cell_type": "markdown",
   "id": "4ae91395",
   "metadata": {},
   "source": [
    "## Mediana"
   ]
  },
  {
   "cell_type": "code",
   "execution_count": 87,
   "id": "2d473327",
   "metadata": {},
   "outputs": [
    {
     "name": "stdout",
     "output_type": "stream",
     "text": [
      "O valor da mediana foi de:  2.05\n"
     ]
    }
   ],
   "source": [
    "medianavendas = dados['global_sales'].median()\n",
    "print(f\"O valor da mediana foi de:  {medianavendas:.2f}\")"
   ]
  },
  {
   "cell_type": "markdown",
   "id": "c5a50d54",
   "metadata": {},
   "source": [
    "## Variância "
   ]
  },
  {
   "cell_type": "code",
   "execution_count": 95,
   "id": "08071e0a",
   "metadata": {},
   "outputs": [
    {
     "name": "stdout",
     "output_type": "stream",
     "text": [
      "O valor da variância foi de:  46.97\n"
     ]
    }
   ],
   "source": [
    "varianciavendas = dados['global_sales'].var()\n",
    "print(f\"O valor da variância foi de:  {varianciavendas:.2f}\")"
   ]
  },
  {
   "cell_type": "markdown",
   "id": "14a23892",
   "metadata": {},
   "source": [
    "## Desvio padrão das vendas"
   ]
  },
  {
   "cell_type": "code",
   "execution_count": 94,
   "id": "aa9930b6",
   "metadata": {},
   "outputs": [
    {
     "name": "stdout",
     "output_type": "stream",
     "text": [
      "O valor do desvio padrão foi de:  6.85\n"
     ]
    }
   ],
   "source": [
    "desviopadraovendas = dados['global_sales'].std()\n",
    "print(f\"O valor do desvio padrão foi de:  {desviopadraovendas:.2f}\")"
   ]
  },
  {
   "cell_type": "markdown",
   "id": "ae301a0b",
   "metadata": {},
   "source": [
    "# Gráfico das vendas globais dos jogos pokémon"
   ]
  },
  {
   "cell_type": "code",
   "execution_count": 93,
   "id": "5067f702",
   "metadata": {
    "scrolled": true
   },
   "outputs": [
    {
     "data": {
      "image/png": "[encoded data removed]",
      "text/plain": [
       "<Figure size 400x400 with 1 Axes>"
      ]
     },
     "metadata": {},
     "output_type": "display_data"
    }
   ],
   "source": [
    "\n",
    "\n",
    "dados[['global_sales']].boxplot(figsize=(4, 4))  \n",
    "plt.ylabel('Vendas globais')  \n",
    "plt.show()  \n"
   ]
  },
  {
   "cell_type": "markdown",
   "id": "42ff463a",
   "metadata": {},
   "source": [
    "#### O estranho desse gráfico é a existência de vários outliers, no entanto, os outliers são justamente os jogos que mais venderam da NINTENDO, como Pokémon Red & Blue, Poekmon Gold & Silver, Pokemon Diamond & Pearl e Pokemon Ruby & Sapphire."
   ]
  }
 ],
 "metadata": {
  "kernelspec": {
   "display_name": "Python 3 (ipykernel)",
   "language": "python",
   "name": "python3"
  },
  "language_info": {
   "codemirror_mode": {
    "name": "ipython",
    "version": 3
   },
   "file_extension": ".py",
   "mimetype": "text/x-python",
   "name": "python",
   "nbconvert_exporter": "python",
   "pygments_lexer": "ipython3",
   "version": "3.11.5"
  }
 },
 "nbformat": 4,
 "nbformat_minor": 5
}
