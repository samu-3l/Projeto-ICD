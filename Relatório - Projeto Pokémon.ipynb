{
 "cells": [
  {
   "cell_type": "markdown",
   "id": "404a07da-005e-4ec4-af5c-7d2424549667",
   "metadata": {},
   "source": [
    "# Quem é esse Pokémon? Uma análise sobre a franquia mais famosa de rinha de animais"
   ]
  },
  {
   "cell_type": "markdown",
   "id": "b9d669d2-d545-4375-af4d-c3f5a39df15b",
   "metadata": {},
   "source": [
    "### Integrantes:\n",
    "- João Victor Azevedo Porto\n",
    "- João Victor Rodrigues de Almeida Alves\n",
    "- Lucas Nóbrega Albuquerque\n",
    "- Samuel Pessoa de Castro"
   ]
  },
  {
   "cell_type": "markdown",
   "id": "b819af86-840e-4c75-a6d7-c85031e20008",
   "metadata": {},
   "source": [
    "## _Introdução_"
   ]
  },
  {
   "cell_type": "markdown",
   "id": "5cb64294-b0fd-41ae-a561-4a08e1b31430",
   "metadata": {},
   "source": [
    "///escrever uma breve história sobre a franquia. Como e de onde surgiu, seu sucesso e influência no ocidente, suas animações, seus jogos(consoles, mobile, cardgame), etc. No final, escrever a motivação do grupo e o objetivo da análise (responder às perguntas)."
   ]
  },
  {
   "cell_type": "code",
   "execution_count": null,
   "id": "fd53afb3-8756-4b31-a307-4fac05036ab2",
   "metadata": {},
   "outputs": [],
   "source": []
  }
 ],
 "metadata": {
  "kernelspec": {
   "display_name": "Python 3 (ipykernel)",
   "language": "python",
   "name": "python3"
  },
  "language_info": {
   "codemirror_mode": {
    "name": "ipython",
    "version": 3
   },
   "file_extension": ".py",
   "mimetype": "text/x-python",
   "name": "python",
   "nbconvert_exporter": "python",
   "pygments_lexer": "ipython3",
   "version": "3.12.3"
  }
 },
 "nbformat": 4,
 "nbformat_minor": 5
}
