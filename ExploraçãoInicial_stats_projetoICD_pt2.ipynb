{
 "cells": [
  {
   "cell_type": "markdown",
   "id": "b5aaab0f",
   "metadata": {},
   "source": [
    "# _Bibliotecas e Declaração de Data_"
   ]
  },
  {
   "cell_type": "code",
   "execution_count": 194,
   "id": "9a37c801",
   "metadata": {},
   "outputs": [],
   "source": [
    "import seaborn as sns\n",
    "import pandas as pd\n",
    "import numpy as np\n",
    "import matplotlib.pyplot as plt"
   ]
  },
  {
   "cell_type": "code",
   "execution_count": 195,
   "id": "1b058903",
   "metadata": {},
   "outputs": [],
   "source": [
    "data = pd.read_csv(r\"C:\\pokemon_datasets\\Pokedex_Ver_SV2.csv\", sep = ';')\n",
    "data = data.drop_duplicates('No', keep='first') #Eliminar as versões diferentes do mesmo pokemon, como as Megaevoluções"
   ]
  },
  {
   "cell_type": "markdown",
   "id": "3c526f93",
   "metadata": {},
   "source": [
    "# _Medidas de centralidade_\n",
    "\n",
    "Definindo uma função para percorrer os stats, utilizar a função como parâmetro e imprimir os resultados"
   ]
  },
  {
   "cell_type": "code",
   "execution_count": 196,
   "id": "9be044be",
   "metadata": {},
   "outputs": [],
   "source": [
    "def Percorrer_stats(Func):\n",
    "    stats = ('HP', 'Ataque', 'Defesa', 'Ataque Especial', 'Defesa Especial', 'Velocidade', 'Total')\n",
    "    stats_parametro = ('HP', 'Attack', 'Defense', 'SP_Attack', 'SP_Defense', 'Speed', 'Total')\n",
    "    \n",
    "    for i in range (7):\n",
    "        medida = Func(data, stats_parametro[i])\n",
    "        print(f\"{stats[i]} = {medida:.2f}\\n\")"
   ]
  },
  {
   "cell_type": "markdown",
   "id": "767c6f8e",
   "metadata": {},
   "source": [
    "## Média"
   ]
  },
  {
   "cell_type": "code",
   "execution_count": 197,
   "id": "094690fc",
   "metadata": {
    "scrolled": true
   },
   "outputs": [],
   "source": [
    "def Media (data, stat):\n",
    "    return np.mean(data[stat])"
   ]
  },
  {
   "cell_type": "code",
   "execution_count": 198,
   "id": "491659d7",
   "metadata": {},
   "outputs": [
    {
     "name": "stdout",
     "output_type": "stream",
     "text": [
      "HP = 70.32\n",
      "\n",
      "Ataque = 77.68\n",
      "\n",
      "Defesa = 72.61\n",
      "\n",
      "Ataque Especial = 70.14\n",
      "\n",
      "Defesa Especial = 70.36\n",
      "\n",
      "Velocidade = 67.35\n",
      "\n",
      "Total = 428.47\n",
      "\n"
     ]
    }
   ],
   "source": [
    "Percorrer_stats(Media)"
   ]
  },
  {
   "cell_type": "markdown",
   "id": "b7595fe3",
   "metadata": {},
   "source": [
    "## Mediana"
   ]
  },
  {
   "cell_type": "code",
   "execution_count": 199,
   "id": "94a6b1e1",
   "metadata": {},
   "outputs": [],
   "source": [
    "def Mediana (data, stat):\n",
    "    return np.median(data[stat])"
   ]
  },
  {
   "cell_type": "code",
   "execution_count": 200,
   "id": "4a3ef1e7",
   "metadata": {},
   "outputs": [
    {
     "name": "stdout",
     "output_type": "stream",
     "text": [
      "HP = 68.00\n",
      "\n",
      "Ataque = 75.00\n",
      "\n",
      "Defesa = 70.00\n",
      "\n",
      "Ataque Especial = 65.00\n",
      "\n",
      "Defesa Especial = 67.00\n",
      "\n",
      "Velocidade = 65.00\n",
      "\n",
      "Total = 452.00\n",
      "\n"
     ]
    }
   ],
   "source": [
    "Percorrer_stats(Mediana)"
   ]
  },
  {
   "cell_type": "markdown",
   "id": "12321ecc",
   "metadata": {},
   "source": [
    "## Moda"
   ]
  },
  {
   "cell_type": "code",
   "execution_count": 201,
   "id": "a9e269a5",
   "metadata": {},
   "outputs": [],
   "source": [
    "def Moda (data, stat):\n",
    "    return data[stat].mode()[0]"
   ]
  },
  {
   "cell_type": "code",
   "execution_count": 202,
   "id": "c9bea36f",
   "metadata": {},
   "outputs": [
    {
     "name": "stdout",
     "output_type": "stream",
     "text": [
      "HP = 60.00\n",
      "\n",
      "Ataque = 80.00\n",
      "\n",
      "Defesa = 60.00\n",
      "\n",
      "Ataque Especial = 40.00\n",
      "\n",
      "Defesa Especial = 50.00\n",
      "\n",
      "Velocidade = 50.00\n",
      "\n",
      "Total = 600.00\n",
      "\n"
     ]
    }
   ],
   "source": [
    "Percorrer_stats(Moda)"
   ]
  },
  {
   "cell_type": "markdown",
   "id": "a8577379",
   "metadata": {},
   "source": [
    "# _Medidas de dispersão_\n",
    "\n",
    "## Variância"
   ]
  },
  {
   "cell_type": "code",
   "execution_count": 203,
   "id": "f856a4f2",
   "metadata": {},
   "outputs": [],
   "source": [
    "def Var (data, stat):\n",
    "    return np.var(data[stat])"
   ]
  },
  {
   "cell_type": "code",
   "execution_count": 204,
   "id": "cb28b362",
   "metadata": {},
   "outputs": [
    {
     "name": "stdout",
     "output_type": "stream",
     "text": [
      "HP = 713.77\n",
      "\n",
      "Ataque = 887.56\n",
      "\n",
      "Defesa = 855.83\n",
      "\n",
      "Ataque Especial = 879.46\n",
      "\n",
      "Defesa Especial = 710.53\n",
      "\n",
      "Velocidade = 825.80\n",
      "\n",
      "Total = 12786.93\n",
      "\n"
     ]
    }
   ],
   "source": [
    "Percorrer_stats(Var)"
   ]
  },
  {
   "cell_type": "markdown",
   "id": "b6587a12",
   "metadata": {},
   "source": [
    "## Desvio padrão"
   ]
  },
  {
   "cell_type": "code",
   "execution_count": 205,
   "id": "aa2e7898",
   "metadata": {},
   "outputs": [],
   "source": [
    "def Dp (data, stat):\n",
    "    return np.std(data[stat])"
   ]
  },
  {
   "cell_type": "code",
   "execution_count": 206,
   "id": "f321013a",
   "metadata": {},
   "outputs": [
    {
     "name": "stdout",
     "output_type": "stream",
     "text": [
      "HP = 26.72\n",
      "\n",
      "Ataque = 29.79\n",
      "\n",
      "Defesa = 29.25\n",
      "\n",
      "Ataque Especial = 29.66\n",
      "\n",
      "Defesa Especial = 26.66\n",
      "\n",
      "Velocidade = 28.74\n",
      "\n",
      "Total = 113.08\n",
      "\n"
     ]
    }
   ],
   "source": [
    "Percorrer_stats(Dp)"
   ]
  },
  {
   "cell_type": "markdown",
   "id": "ebeb0bd7",
   "metadata": {},
   "source": [
    "# _Boxplots_\n",
    "\n",
    "Definindo a função para se criar os gráficos:"
   ]
  },
  {
   "cell_type": "code",
   "execution_count": 241,
   "id": "1b8c4214",
   "metadata": {},
   "outputs": [],
   "source": [
    "def Boxplot (data, stat):\n",
    "    plt.figure(figsize=(5,2))\n",
    "    sns.boxplot(x=data[stat])\n",
    "    plt.title(stat)\n",
    "    plt.xlabel('Valor dos stats')\n",
    "    plt.ylabel(' ')\n",
    "    plt.show()    "
   ]
  },
  {
   "cell_type": "markdown",
   "id": "165af802",
   "metadata": {},
   "source": [
    "## Para HP:"
   ]
  },
  {
   "cell_type": "code",
   "execution_count": 242,
   "id": "d5920cae",
   "metadata": {},
   "outputs": [
    {
     "data": {
      "image/png": "[encoded data removed]",
      "text/plain": [
       "<Figure size 500x200 with 1 Axes>"
      ]
     },
     "metadata": {},
     "output_type": "display_data"
    }
   ],
   "source": [
    "Boxplot (data, 'HP')"
   ]
  },
  {
   "cell_type": "markdown",
   "id": "8e221474",
   "metadata": {},
   "source": [
    "## Para Ataque:"
   ]
  },
  {
   "cell_type": "code",
   "execution_count": 243,
   "id": "948297b9",
   "metadata": {},
   "outputs": [
    {
     "data": {
      "image/png": "[encoded data removed]",
      "text/plain": [
       "<Figure size 500x200 with 1 Axes>"
      ]
     },
     "metadata": {},
     "output_type": "display_data"
    }
   ],
   "source": [
    "Boxplot(data, 'Attack')"
   ]
  },
  {
   "cell_type": "markdown",
   "id": "69243236",
   "metadata": {},
   "source": [
    "## Para Defesa:"
   ]
  },
  {
   "cell_type": "code",
   "execution_count": 244,
   "id": "407787b8",
   "metadata": {},
   "outputs": [
    {
     "data": {
      "image/png": "[encoded data removed]",
      "text/plain": [
       "<Figure size 500x200 with 1 Axes>"
      ]
     },
     "metadata": {},
     "output_type": "display_data"
    }
   ],
   "source": [
    "Boxplot(data, 'Defense')"
   ]
  },
  {
   "cell_type": "markdown",
   "id": "cd0b3e31",
   "metadata": {},
   "source": [
    "## Para Ataque Especial"
   ]
  },
  {
   "cell_type": "code",
   "execution_count": 245,
   "id": "0b368f83",
   "metadata": {},
   "outputs": [
    {
     "data": {
      "image/png": "[encoded data removed]",
      "text/plain": [
       "<Figure size 500x200 with 1 Axes>"
      ]
     },
     "metadata": {},
     "output_type": "display_data"
    }
   ],
   "source": [
    "Boxplot(data, 'SP_Attack')"
   ]
  },
  {
   "cell_type": "markdown",
   "id": "93f1bb26",
   "metadata": {},
   "source": [
    "## Para Defesa especial"
   ]
  },
  {
   "cell_type": "code",
   "execution_count": 246,
   "id": "0eee4f67",
   "metadata": {},
   "outputs": [
    {
     "data": {
      "image/png": "[encoded data removed]",
      "text/plain": [
       "<Figure size 500x200 with 1 Axes>"
      ]
     },
     "metadata": {},
     "output_type": "display_data"
    }
   ],
   "source": [
    "Boxplot(data, 'SP_Defense')"
   ]
  },
  {
   "cell_type": "markdown",
   "id": "01252147",
   "metadata": {},
   "source": [
    "## Para Velocidade"
   ]
  },
  {
   "cell_type": "code",
   "execution_count": 247,
   "id": "eb4054ab",
   "metadata": {},
   "outputs": [
    {
     "data": {
      "image/png": "[encoded data removed]",
      "text/plain": [
       "<Figure size 500x200 with 1 Axes>"
      ]
     },
     "metadata": {},
     "output_type": "display_data"
    }
   ],
   "source": [
    "Boxplot(data, 'Speed')"
   ]
  },
  {
   "cell_type": "markdown",
   "id": "7898128b",
   "metadata": {},
   "source": [
    "## Para a soma total dos stats"
   ]
  },
  {
   "cell_type": "code",
   "execution_count": 248,
   "id": "9561b7e0",
   "metadata": {},
   "outputs": [
    {
     "data": {
      "image/png": "[encoded data removed]",
      "text/plain": [
       "<Figure size 500x200 with 1 Axes>"
      ]
     },
     "metadata": {},
     "output_type": "display_data"
    }
   ],
   "source": [
    "Boxplot(data, 'Total')"
   ]
  }
 ],
 "metadata": {
  "kernelspec": {
   "display_name": "Python 3 (ipykernel)",
   "language": "python",
   "name": "python3"
  },
  "language_info": {
   "codemirror_mode": {
    "name": "ipython",
    "version": 3
   },
   "file_extension": ".py",
   "mimetype": "text/x-python",
   "name": "python",
   "nbconvert_exporter": "python",
   "pygments_lexer": "ipython3",
   "version": "3.11.5"
  }
 },
 "nbformat": 4,
 "nbformat_minor": 5
}
