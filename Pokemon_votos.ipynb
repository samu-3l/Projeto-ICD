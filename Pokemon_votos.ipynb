{
 "cells": [
  {
   "cell_type": "markdown",
   "id": "8357c7e7",
   "metadata": {},
   "source": [
    "                                     Importanto o arquivo CSV"
   ]
  },
  {
   "cell_type": "code",
   "execution_count": 4,
   "id": "7eccd25d",
   "metadata": {},
   "outputs": [],
   "source": [
    "import pandas as pd"
   ]
  },
  {
   "cell_type": "code",
   "execution_count": 5,
   "id": "d7f50cb0",
   "metadata": {},
   "outputs": [],
   "source": [
    "data = \"C:\\dataframe\\pokemonFavoritos.csv\""
   ]
  },
  {
   "cell_type": "code",
   "execution_count": 6,
   "id": "f9004e5b",
   "metadata": {},
   "outputs": [],
   "source": [
    "dados = pd.read_csv(data)"
   ]
  },
  {
   "cell_type": "code",
   "execution_count": 7,
   "id": "f9097b55",
   "metadata": {
    "scrolled": false
   },
   "outputs": [
    {
     "data": {
      "text/html": [
       "<div>\n",
       "<style scoped>\n",
       "    .dataframe tbody tr th:only-of-type {\n",
       "        vertical-align: middle;\n",
       "    }\n",
       "\n",
       "    .dataframe tbody tr th {\n",
       "        vertical-align: top;\n",
       "    }\n",
       "\n",
       "    .dataframe thead th {\n",
       "        text-align: right;\n",
       "    }\n",
       "</style>\n",
       "<table border=\"1\" class=\"dataframe\">\n",
       "  <thead>\n",
       "    <tr style=\"text-align: right;\">\n",
       "      <th></th>\n",
       "      <th>Pokemon</th>\n",
       "      <th>Votos</th>\n",
       "      <th>Tipo</th>\n",
       "      <th>Unnamed: 3</th>\n",
       "      <th>Unnamed: 4</th>\n",
       "      <th>Unnamed: 5</th>\n",
       "      <th>Unnamed: 6</th>\n",
       "      <th>Select a Pokémon here to see how many votes it got</th>\n",
       "      <th>Unnamed: 8</th>\n",
       "      <th>Unnamed: 9</th>\n",
       "      <th>...</th>\n",
       "      <th>Unnamed: 16</th>\n",
       "      <th>Number of pokemon by number of votes</th>\n",
       "      <th>Unnamed: 18</th>\n",
       "      <th>Unnamed: 19</th>\n",
       "      <th>Unnamed: 20</th>\n",
       "      <th>By type</th>\n",
       "      <th>Psychic</th>\n",
       "      <th>Unnamed: 23</th>\n",
       "      <th>By Gen</th>\n",
       "      <th>5</th>\n",
       "    </tr>\n",
       "  </thead>\n",
       "  <tbody>\n",
       "    <tr>\n",
       "      <th>0</th>\n",
       "      <td>Bulbasaur</td>\n",
       "      <td>710</td>\n",
       "      <td>Grass Poison</td>\n",
       "      <td>1</td>\n",
       "      <td>Bulbasaur</td>\n",
       "      <td>NaN</td>\n",
       "      <td>NaN</td>\n",
       "      <td>Fletchling</td>\n",
       "      <td>6</td>\n",
       "      <td>NaN</td>\n",
       "      <td>...</td>\n",
       "      <td>NaN</td>\n",
       "      <td>Pokemon</td>\n",
       "      <td>Votes</td>\n",
       "      <td>%</td>\n",
       "      <td>NaN</td>\n",
       "      <td>Pokemon</td>\n",
       "      <td>Votes</td>\n",
       "      <td>NaN</td>\n",
       "      <td>Pokemon</td>\n",
       "      <td>Votes</td>\n",
       "    </tr>\n",
       "    <tr>\n",
       "      <th>1</th>\n",
       "      <td>Ivysaur</td>\n",
       "      <td>83</td>\n",
       "      <td>Grass Poison</td>\n",
       "      <td>1</td>\n",
       "      <td>Bulbasaur</td>\n",
       "      <td>NaN</td>\n",
       "      <td>NaN</td>\n",
       "      <td>NaN</td>\n",
       "      <td>NaN</td>\n",
       "      <td>NaN</td>\n",
       "      <td>...</td>\n",
       "      <td>NaN</td>\n",
       "      <td>4</td>\n",
       "      <td>0</td>\n",
       "      <td>0.49%</td>\n",
       "      <td>NaN</td>\n",
       "      <td>Gardevoir</td>\n",
       "      <td>585</td>\n",
       "      <td>NaN</td>\n",
       "      <td>Volcarona</td>\n",
       "      <td>290</td>\n",
       "    </tr>\n",
       "    <tr>\n",
       "      <th>2</th>\n",
       "      <td>Venusaur</td>\n",
       "      <td>127</td>\n",
       "      <td>Grass Poison</td>\n",
       "      <td>1</td>\n",
       "      <td>Bulbasaur</td>\n",
       "      <td>NaN</td>\n",
       "      <td>NaN</td>\n",
       "      <td>NaN</td>\n",
       "      <td>NaN</td>\n",
       "      <td>NaN</td>\n",
       "      <td>...</td>\n",
       "      <td>NaN</td>\n",
       "      <td>8</td>\n",
       "      <td>1</td>\n",
       "      <td>0.99%</td>\n",
       "      <td>NaN</td>\n",
       "      <td>Metagross</td>\n",
       "      <td>395</td>\n",
       "      <td>NaN</td>\n",
       "      <td>Chandelure</td>\n",
       "      <td>222</td>\n",
       "    </tr>\n",
       "    <tr>\n",
       "      <th>3</th>\n",
       "      <td>Charmander</td>\n",
       "      <td>374</td>\n",
       "      <td>Fire</td>\n",
       "      <td>1</td>\n",
       "      <td>Charmander</td>\n",
       "      <td>NaN</td>\n",
       "      <td>NaN</td>\n",
       "      <td>Number of valid votes:</td>\n",
       "      <td>52725</td>\n",
       "      <td>NaN</td>\n",
       "      <td>...</td>\n",
       "      <td>NaN</td>\n",
       "      <td>28</td>\n",
       "      <td>2</td>\n",
       "      <td>3.46%</td>\n",
       "      <td>NaN</td>\n",
       "      <td>Espeon</td>\n",
       "      <td>384</td>\n",
       "      <td>NaN</td>\n",
       "      <td>Hydreigon</td>\n",
       "      <td>166</td>\n",
       "    </tr>\n",
       "    <tr>\n",
       "      <th>4</th>\n",
       "      <td>Charmeleon</td>\n",
       "      <td>70</td>\n",
       "      <td>Fire</td>\n",
       "      <td>1</td>\n",
       "      <td>Charmander</td>\n",
       "      <td>NaN</td>\n",
       "      <td>NaN</td>\n",
       "      <td>Average per pokémon</td>\n",
       "      <td>65</td>\n",
       "      <td>NaN</td>\n",
       "      <td>...</td>\n",
       "      <td>NaN</td>\n",
       "      <td>24</td>\n",
       "      <td>3</td>\n",
       "      <td>2.97%</td>\n",
       "      <td>NaN</td>\n",
       "      <td>Alakazam</td>\n",
       "      <td>376</td>\n",
       "      <td>NaN</td>\n",
       "      <td>Zoroark</td>\n",
       "      <td>159</td>\n",
       "    </tr>\n",
       "    <tr>\n",
       "      <th>...</th>\n",
       "      <td>...</td>\n",
       "      <td>...</td>\n",
       "      <td>...</td>\n",
       "      <td>...</td>\n",
       "      <td>...</td>\n",
       "      <td>...</td>\n",
       "      <td>...</td>\n",
       "      <td>...</td>\n",
       "      <td>...</td>\n",
       "      <td>...</td>\n",
       "      <td>...</td>\n",
       "      <td>...</td>\n",
       "      <td>...</td>\n",
       "      <td>...</td>\n",
       "      <td>...</td>\n",
       "      <td>...</td>\n",
       "      <td>...</td>\n",
       "      <td>...</td>\n",
       "      <td>...</td>\n",
       "      <td>...</td>\n",
       "      <td>...</td>\n",
       "    </tr>\n",
       "    <tr>\n",
       "      <th>804</th>\n",
       "      <td>Stakataka</td>\n",
       "      <td>13</td>\n",
       "      <td>Rock Steel</td>\n",
       "      <td>7</td>\n",
       "      <td>Stakataka</td>\n",
       "      <td>NaN</td>\n",
       "      <td>NaN</td>\n",
       "      <td>NaN</td>\n",
       "      <td>NaN</td>\n",
       "      <td>NaN</td>\n",
       "      <td>...</td>\n",
       "      <td>NaN</td>\n",
       "      <td>0</td>\n",
       "      <td>803</td>\n",
       "      <td>0.00%</td>\n",
       "      <td>NaN</td>\n",
       "      <td>NaN</td>\n",
       "      <td>NaN</td>\n",
       "      <td>NaN</td>\n",
       "      <td>NaN</td>\n",
       "      <td>NaN</td>\n",
       "    </tr>\n",
       "    <tr>\n",
       "      <th>805</th>\n",
       "      <td>Blacephalon</td>\n",
       "      <td>8</td>\n",
       "      <td>Fire Ghost</td>\n",
       "      <td>7</td>\n",
       "      <td>Blacephalon</td>\n",
       "      <td>NaN</td>\n",
       "      <td>NaN</td>\n",
       "      <td>NaN</td>\n",
       "      <td>NaN</td>\n",
       "      <td>NaN</td>\n",
       "      <td>...</td>\n",
       "      <td>NaN</td>\n",
       "      <td>0</td>\n",
       "      <td>804</td>\n",
       "      <td>0.00%</td>\n",
       "      <td>NaN</td>\n",
       "      <td>NaN</td>\n",
       "      <td>NaN</td>\n",
       "      <td>NaN</td>\n",
       "      <td>NaN</td>\n",
       "      <td>NaN</td>\n",
       "    </tr>\n",
       "    <tr>\n",
       "      <th>806</th>\n",
       "      <td>Zeraora</td>\n",
       "      <td>17</td>\n",
       "      <td>Electric</td>\n",
       "      <td>7</td>\n",
       "      <td>Zeraora</td>\n",
       "      <td>NaN</td>\n",
       "      <td>NaN</td>\n",
       "      <td>NaN</td>\n",
       "      <td>NaN</td>\n",
       "      <td>NaN</td>\n",
       "      <td>...</td>\n",
       "      <td>NaN</td>\n",
       "      <td>0</td>\n",
       "      <td>805</td>\n",
       "      <td>0.00%</td>\n",
       "      <td>NaN</td>\n",
       "      <td>NaN</td>\n",
       "      <td>NaN</td>\n",
       "      <td>NaN</td>\n",
       "      <td>NaN</td>\n",
       "      <td>NaN</td>\n",
       "    </tr>\n",
       "    <tr>\n",
       "      <th>807</th>\n",
       "      <td>Meltan</td>\n",
       "      <td>3</td>\n",
       "      <td>Steel</td>\n",
       "      <td>7</td>\n",
       "      <td>Meltan</td>\n",
       "      <td>NaN</td>\n",
       "      <td>NaN</td>\n",
       "      <td>NaN</td>\n",
       "      <td>NaN</td>\n",
       "      <td>NaN</td>\n",
       "      <td>...</td>\n",
       "      <td>NaN</td>\n",
       "      <td>0</td>\n",
       "      <td>806</td>\n",
       "      <td>0.00%</td>\n",
       "      <td>NaN</td>\n",
       "      <td>NaN</td>\n",
       "      <td>NaN</td>\n",
       "      <td>NaN</td>\n",
       "      <td>NaN</td>\n",
       "      <td>NaN</td>\n",
       "    </tr>\n",
       "    <tr>\n",
       "      <th>808</th>\n",
       "      <td>Melmetal</td>\n",
       "      <td>13</td>\n",
       "      <td>Steel</td>\n",
       "      <td>7</td>\n",
       "      <td>Meltan</td>\n",
       "      <td>NaN</td>\n",
       "      <td>NaN</td>\n",
       "      <td>NaN</td>\n",
       "      <td>NaN</td>\n",
       "      <td>NaN</td>\n",
       "      <td>...</td>\n",
       "      <td>NaN</td>\n",
       "      <td>0</td>\n",
       "      <td>807</td>\n",
       "      <td>0.00%</td>\n",
       "      <td>NaN</td>\n",
       "      <td>NaN</td>\n",
       "      <td>NaN</td>\n",
       "      <td>NaN</td>\n",
       "      <td>NaN</td>\n",
       "      <td>NaN</td>\n",
       "    </tr>\n",
       "  </tbody>\n",
       "</table>\n",
       "<p>809 rows × 26 columns</p>\n",
       "</div>"
      ],
      "text/plain": [
       "         Pokemon  Votos          Tipo  Unnamed: 3   Unnamed: 4  Unnamed: 5  \\\n",
       "0      Bulbasaur    710  Grass Poison           1    Bulbasaur         NaN   \n",
       "1        Ivysaur     83  Grass Poison           1    Bulbasaur         NaN   \n",
       "2       Venusaur    127  Grass Poison           1    Bulbasaur         NaN   \n",
       "3     Charmander    374          Fire           1   Charmander         NaN   \n",
       "4     Charmeleon     70          Fire           1   Charmander         NaN   \n",
       "..           ...    ...           ...         ...          ...         ...   \n",
       "804    Stakataka     13    Rock Steel           7    Stakataka         NaN   \n",
       "805  Blacephalon      8    Fire Ghost           7  Blacephalon         NaN   \n",
       "806      Zeraora     17      Electric           7      Zeraora         NaN   \n",
       "807       Meltan      3         Steel           7       Meltan         NaN   \n",
       "808     Melmetal     13         Steel           7       Meltan         NaN   \n",
       "\n",
       "    Unnamed: 6 Select a Pokémon here to see how many votes it got Unnamed: 8  \\\n",
       "0          NaN                                         Fletchling          6   \n",
       "1          NaN                                                NaN        NaN   \n",
       "2          NaN                                                NaN        NaN   \n",
       "3          NaN                             Number of valid votes:      52725   \n",
       "4          NaN                                Average per pokémon         65   \n",
       "..         ...                                                ...        ...   \n",
       "804        NaN                                                NaN        NaN   \n",
       "805        NaN                                                NaN        NaN   \n",
       "806        NaN                                                NaN        NaN   \n",
       "807        NaN                                                NaN        NaN   \n",
       "808        NaN                                                NaN        NaN   \n",
       "\n",
       "    Unnamed: 9  ...  Unnamed: 16 Number of pokemon by number of votes  \\\n",
       "0          NaN  ...          NaN                              Pokemon   \n",
       "1          NaN  ...          NaN                                    4   \n",
       "2          NaN  ...          NaN                                    8   \n",
       "3          NaN  ...          NaN                                   28   \n",
       "4          NaN  ...          NaN                                   24   \n",
       "..         ...  ...          ...                                  ...   \n",
       "804        NaN  ...          NaN                                    0   \n",
       "805        NaN  ...          NaN                                    0   \n",
       "806        NaN  ...          NaN                                    0   \n",
       "807        NaN  ...          NaN                                    0   \n",
       "808        NaN  ...          NaN                                    0   \n",
       "\n",
       "     Unnamed: 18 Unnamed: 19 Unnamed: 20    By type  Psychic Unnamed: 23  \\\n",
       "0          Votes           %         NaN    Pokemon    Votes         NaN   \n",
       "1              0       0.49%         NaN  Gardevoir      585         NaN   \n",
       "2              1       0.99%         NaN  Metagross      395         NaN   \n",
       "3              2       3.46%         NaN     Espeon      384         NaN   \n",
       "4              3       2.97%         NaN   Alakazam      376         NaN   \n",
       "..           ...         ...         ...        ...      ...         ...   \n",
       "804          803       0.00%         NaN        NaN      NaN         NaN   \n",
       "805          804       0.00%         NaN        NaN      NaN         NaN   \n",
       "806          805       0.00%         NaN        NaN      NaN         NaN   \n",
       "807          806       0.00%         NaN        NaN      NaN         NaN   \n",
       "808          807       0.00%         NaN        NaN      NaN         NaN   \n",
       "\n",
       "         By Gen      5  \n",
       "0       Pokemon  Votes  \n",
       "1     Volcarona    290  \n",
       "2    Chandelure    222  \n",
       "3     Hydreigon    166  \n",
       "4       Zoroark    159  \n",
       "..          ...    ...  \n",
       "804         NaN    NaN  \n",
       "805         NaN    NaN  \n",
       "806         NaN    NaN  \n",
       "807         NaN    NaN  \n",
       "808         NaN    NaN  \n",
       "\n",
       "[809 rows x 26 columns]"
      ]
     },
     "execution_count": 7,
     "metadata": {},
     "output_type": "execute_result"
    }
   ],
   "source": [
    "dados"
   ]
  },
  {
   "cell_type": "markdown",
   "id": "df2e4036",
   "metadata": {},
   "source": [
    "                                        Calculando a centralidade "
   ]
  },
  {
   "cell_type": "code",
   "execution_count": 8,
   "id": "a756e5d0",
   "metadata": {},
   "outputs": [],
   "source": [
    "media_votos = dados['Votos'].mean()\n",
    "mediana_votos = dados['Votos'].median()\n",
    "moda_votos = dados['Votos'].mode()"
   ]
  },
  {
   "cell_type": "code",
   "execution_count": 9,
   "id": "bbee00fd",
   "metadata": {},
   "outputs": [
    {
     "name": "stdout",
     "output_type": "stream",
     "text": [
      "Medidas de Centralidade dos Votos:\n",
      "Média: 65.17305315203956\n",
      "Mediana: 23.0\n",
      "Moda: 0    5\n",
      "Name: Votos, dtype: int64\n"
     ]
    }
   ],
   "source": [
    "print(\"Medidas de Centralidade dos Votos:\")\n",
    "print(\"Média:\", media_votos)\n",
    "print(\"Mediana:\", mediana_votos)\n",
    "print(\"Moda:\", moda_votos)"
   ]
  },
  {
   "cell_type": "markdown",
   "id": "c02b1081",
   "metadata": {},
   "source": [
    "                                         Calculando a dispersão"
   ]
  },
  {
   "cell_type": "code",
   "execution_count": 10,
   "id": "f836a36b",
   "metadata": {},
   "outputs": [],
   "source": [
    "variancia_votos = dados['Votos'].var()\n",
    "desvio_padrao_votos = dados['Votos'].std()"
   ]
  },
  {
   "cell_type": "code",
   "execution_count": 11,
   "id": "0d07ffac",
   "metadata": {},
   "outputs": [
    {
     "name": "stdout",
     "output_type": "stream",
     "text": [
      "\n",
      "Medidas de Dispersão dos Votos:\n",
      "Variância: 14072.012094750873\n",
      "Desvio Padrão: 118.62551198941513\n"
     ]
    }
   ],
   "source": [
    "print(\"\\nMedidas de Dispersão dos Votos:\")\n",
    "print(\"Variância:\", variancia_votos)\n",
    "print(\"Desvio Padrão:\", desvio_padrao_votos)"
   ]
  },
  {
   "cell_type": "markdown",
   "id": "a42f7d36",
   "metadata": {},
   "source": [
    "                                        Criando o boxplot dos votos"
   ]
  },
  {
   "cell_type": "code",
   "execution_count": 12,
   "id": "d0b72068",
   "metadata": {},
   "outputs": [],
   "source": [
    "import matplotlib.pyplot as plt\n"
   ]
  },
  {
   "cell_type": "code",
   "execution_count": 13,
   "id": "23581896",
   "metadata": {},
   "outputs": [],
   "source": [
    "dados = pd.read_csv(\"C:\\dataframe\\pokemonFavoritos.csv\", usecols=['Pokemon', 'Votos'])"
   ]
  },
  {
   "cell_type": "code",
   "execution_count": 14,
   "id": "50ccf393",
   "metadata": {},
   "outputs": [
    {
     "data": {
      "image/png": "[encoded data removed]",
      "text/plain": [
       "<Figure size 1000x600 with 1 Axes>"
      ]
     },
     "metadata": {},
     "output_type": "display_data"
    }
   ],
   "source": [
    "plt.figure(figsize=(10, 6))\n",
    "plt.boxplot(dados['Votos'])\n",
    "plt.title('Boxplot dos Votos')\n",
    "plt.ylabel('Votos')\n",
    "plt.xticks([1], ['Todos os Pokémon'])  # Ajusta os rótulos do eixo x\n",
    "plt.grid(True)\n",
    "plt.show()"
   ]
  },
  {
   "cell_type": "markdown",
   "id": "f5b3bb5b",
   "metadata": {},
   "source": [
    "                                                 TOP 5 POKEMONS"
   ]
  },
  {
   "cell_type": "code",
   "execution_count": 15,
   "id": "162d0135",
   "metadata": {},
   "outputs": [],
   "source": [
    "dados_ordenados = dados.sort_values(by = 'Votos', ascending = False)"
   ]
  },
  {
   "cell_type": "code",
   "execution_count": 16,
   "id": "9c1b7d64",
   "metadata": {},
   "outputs": [],
   "source": [
    "top_5 = dados_ordenados.head(5)"
   ]
  },
  {
   "cell_type": "code",
   "execution_count": 17,
   "id": "6007afe6",
   "metadata": {},
   "outputs": [
    {
     "name": "stdout",
     "output_type": "stream",
     "text": [
      "Top 5 mais votados:\n",
      "       Pokemon  Votos\n",
      "5    Charizard   1107\n",
      "93      Gengar   1056\n",
      "58    Arcanine    923\n",
      "0    Bulbasaur    710\n",
      "256   Blaziken    613\n"
     ]
    }
   ],
   "source": [
    "print(\"Top 5 mais votados:\")\n",
    "print(top_5)"
   ]
  },
  {
   "cell_type": "markdown",
   "id": "0c61204f",
   "metadata": {},
   "source": [
    "                                        Fazendo graficos utilizando o K-means"
   ]
  },
  {
   "cell_type": "markdown",
   "id": "92b0f588",
   "metadata": {},
   "source": [
    "                                                   GRAFICO DE BARRAS"
   ]
  },
  {
   "cell_type": "code",
   "execution_count": 18,
   "id": "1f55c7a3",
   "metadata": {},
   "outputs": [],
   "source": [
    "from sklearn.preprocessing import StandardScaler\n",
    "from sklearn.cluster import KMeans"
   ]
  },
  {
   "cell_type": "code",
   "execution_count": 20,
   "id": "33b17432",
   "metadata": {},
   "outputs": [],
   "source": [
    "dados = dados[['Pokemon', 'Votos']]"
   ]
  },
  {
   "cell_type": "code",
   "execution_count": 21,
   "id": "ccbe5d5e",
   "metadata": {},
   "outputs": [],
   "source": [
    "scaler = StandardScaler()\n",
    "dados['Votos_Normalizados'] = scaler.fit_transform(dados[['Votos']])"
   ]
  },
  {
   "cell_type": "code",
   "execution_count": 23,
   "id": "a9bd8bcb",
   "metadata": {},
   "outputs": [
    {
     "name": "stderr",
     "output_type": "stream",
     "text": [
      "C:\\Users\\joaov\\anaconda3\\Lib\\site-packages\\sklearn\\cluster\\_kmeans.py:1412: FutureWarning: The default value of `n_init` will change from 10 to 'auto' in 1.4. Set the value of `n_init` explicitly to suppress the warning\n",
      "  super()._check_params_vs_input(X, default_n_init=10)\n"
     ]
    },
    {
     "data": {
      "text/html": [
       "<style>#sk-container-id-2 {color: black;}#sk-container-id-2 pre{padding: 0;}#sk-container-id-2 div.sk-toggleable {background-color: white;}#sk-container-id-2 label.sk-toggleable__label {cursor: pointer;display: block;width: 100%;margin-bottom: 0;padding: 0.3em;box-sizing: border-box;text-align: center;}#sk-container-id-2 label.sk-toggleable__label-arrow:before {content: \"▸\";float: left;margin-right: 0.25em;color: #696969;}#sk-container-id-2 label.sk-toggleable__label-arrow:hover:before {color: black;}#sk-container-id-2 div.sk-estimator:hover label.sk-toggleable__label-arrow:before {color: black;}#sk-container-id-2 div.sk-toggleable__content {max-height: 0;max-width: 0;overflow: hidden;text-align: left;background-color: #f0f8ff;}#sk-container-id-2 div.sk-toggleable__content pre {margin: 0.2em;color: black;border-radius: 0.25em;background-color: #f0f8ff;}#sk-container-id-2 input.sk-toggleable__control:checked~div.sk-toggleable__content {max-height: 200px;max-width: 100%;overflow: auto;}#sk-container-id-2 input.sk-toggleable__control:checked~label.sk-toggleable__label-arrow:before {content: \"▾\";}#sk-container-id-2 div.sk-estimator input.sk-toggleable__control:checked~label.sk-toggleable__label {background-color: #d4ebff;}#sk-container-id-2 div.sk-label input.sk-toggleable__control:checked~label.sk-toggleable__label {background-color: #d4ebff;}#sk-container-id-2 input.sk-hidden--visually {border: 0;clip: rect(1px 1px 1px 1px);clip: rect(1px, 1px, 1px, 1px);height: 1px;margin: -1px;overflow: hidden;padding: 0;position: absolute;width: 1px;}#sk-container-id-2 div.sk-estimator {font-family: monospace;background-color: #f0f8ff;border: 1px dotted black;border-radius: 0.25em;box-sizing: border-box;margin-bottom: 0.5em;}#sk-container-id-2 div.sk-estimator:hover {background-color: #d4ebff;}#sk-container-id-2 div.sk-parallel-item::after {content: \"\";width: 100%;border-bottom: 1px solid gray;flex-grow: 1;}#sk-container-id-2 div.sk-label:hover label.sk-toggleable__label {background-color: #d4ebff;}#sk-container-id-2 div.sk-serial::before {content: \"\";position: absolute;border-left: 1px solid gray;box-sizing: border-box;top: 0;bottom: 0;left: 50%;z-index: 0;}#sk-container-id-2 div.sk-serial {display: flex;flex-direction: column;align-items: center;background-color: white;padding-right: 0.2em;padding-left: 0.2em;position: relative;}#sk-container-id-2 div.sk-item {position: relative;z-index: 1;}#sk-container-id-2 div.sk-parallel {display: flex;align-items: stretch;justify-content: center;background-color: white;position: relative;}#sk-container-id-2 div.sk-item::before, #sk-container-id-2 div.sk-parallel-item::before {content: \"\";position: absolute;border-left: 1px solid gray;box-sizing: border-box;top: 0;bottom: 0;left: 50%;z-index: -1;}#sk-container-id-2 div.sk-parallel-item {display: flex;flex-direction: column;z-index: 1;position: relative;background-color: white;}#sk-container-id-2 div.sk-parallel-item:first-child::after {align-self: flex-end;width: 50%;}#sk-container-id-2 div.sk-parallel-item:last-child::after {align-self: flex-start;width: 50%;}#sk-container-id-2 div.sk-parallel-item:only-child::after {width: 0;}#sk-container-id-2 div.sk-dashed-wrapped {border: 1px dashed gray;margin: 0 0.4em 0.5em 0.4em;box-sizing: border-box;padding-bottom: 0.4em;background-color: white;}#sk-container-id-2 div.sk-label label {font-family: monospace;font-weight: bold;display: inline-block;line-height: 1.2em;}#sk-container-id-2 div.sk-label-container {text-align: center;}#sk-container-id-2 div.sk-container {/* jupyter's `normalize.less` sets `[hidden] { display: none; }` but bootstrap.min.css set `[hidden] { display: none !important; }` so we also need the `!important` here to be able to override the default hidden behavior on the sphinx rendered scikit-learn.org. See: https://github.com/scikit-learn/scikit-learn/issues/21755 */display: inline-block !important;position: relative;}#sk-container-id-2 div.sk-text-repr-fallback {display: none;}</style><div id=\"sk-container-id-2\" class=\"sk-top-container\"><div class=\"sk-text-repr-fallback\"><pre>KMeans(n_clusters=3)</pre><b>In a Jupyter environment, please rerun this cell to show the HTML representation or trust the notebook. <br />On GitHub, the HTML representation is unable to render, please try loading this page with nbviewer.org.</b></div><div class=\"sk-container\" hidden><div class=\"sk-item\"><div class=\"sk-estimator sk-toggleable\"><input class=\"sk-toggleable__control sk-hidden--visually\" id=\"sk-estimator-id-2\" type=\"checkbox\" checked><label for=\"sk-estimator-id-2\" class=\"sk-toggleable__label sk-toggleable__label-arrow\">KMeans</label><div class=\"sk-toggleable__content\"><pre>KMeans(n_clusters=3)</pre></div></div></div></div></div>"
      ],
      "text/plain": [
       "KMeans(n_clusters=3)"
      ]
     },
     "execution_count": 23,
     "metadata": {},
     "output_type": "execute_result"
    }
   ],
   "source": [
    "kmeans = KMeans(n_clusters=3) \n",
    "kmeans.fit(dados[['Votos_Normalizados']])"
   ]
  },
  {
   "cell_type": "code",
   "execution_count": 24,
   "id": "02d48451",
   "metadata": {},
   "outputs": [],
   "source": [
    "dados['Cluster'] = kmeans.labels_"
   ]
  },
  {
   "cell_type": "code",
   "execution_count": 25,
   "id": "fe6c4a30",
   "metadata": {},
   "outputs": [],
   "source": [
    "medias_por_cluster = dados.groupby('Cluster')['Votos'].mean()"
   ]
  },
  {
   "cell_type": "code",
   "execution_count": 26,
   "id": "fd4eceb1",
   "metadata": {},
   "outputs": [
    {
     "data": {
      "image/png": "[encoded data removed]",
      "text/plain": [
       "<Figure size 1000x600 with 1 Axes>"
      ]
     },
     "metadata": {},
     "output_type": "display_data"
    }
   ],
   "source": [
    "plt.figure(figsize=(10, 6))\n",
    "medias_por_cluster.plot(kind='bar', color=['blue', 'green', 'red'])\n",
    "plt.title('Média dos Votos por Cluster')\n",
    "plt.xlabel('Cluster')\n",
    "plt.ylabel('Média dos Votos')\n",
    "plt.xticks(rotation=0)\n",
    "plt.grid(True)\n",
    "plt.show()"
   ]
  }
 ],
 "metadata": {
  "kernelspec": {
   "display_name": "Python 3 (ipykernel)",
   "language": "python",
   "name": "python3"
  },
  "language_info": {
   "codemirror_mode": {
    "name": "ipython",
    "version": 3
   },
   "file_extension": ".py",
   "mimetype": "text/x-python",
   "name": "python",
   "nbconvert_exporter": "python",
   "pygments_lexer": "ipython3",
   "version": "3.11.5"
  }
 },
 "nbformat": 4,
 "nbformat_minor": 5
}
